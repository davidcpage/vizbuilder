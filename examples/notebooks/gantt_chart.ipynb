{
 "cells": [
  {
   "cell_type": "code",
   "execution_count": 1,
   "id": "307c4185",
   "metadata": {},
   "outputs": [],
   "source": [
    "import json\n",
    "from itertools import cycle\n",
    "from collections import defaultdict\n",
    "import uuid\n",
    "import numpy as np\n",
    "from vizbuilder import Html, components, require"
   ]
  },
  {
   "cell_type": "code",
   "execution_count": 2,
   "id": "6cd7bc82",
   "metadata": {},
   "outputs": [],
   "source": [
    "colors_iter = cycle([\"red\", \"blue\", \"green\", \"orange\", \"purple\"])\n",
    "colors = defaultdict(lambda: next(colors_iter))\n",
    "\n",
    "rand = np.random.RandomState(42)\n",
    "data = [\n",
    "        {\"category\": k, \"start\": int(i), \"duration\": 2, \"color\": colors[k]}\n",
    "        for k in [\"A\", \"B\", \"C\", \"D\", \"E\"] for i in np.cumsum(rand.choice(5, 100) + 2)\n",
    "    ]"
   ]
  },
  {
   "cell_type": "code",
   "execution_count": null,
   "id": "bce43cf1",
   "metadata": {},
   "outputs": [],
   "source": "# Original Gantt Chart (without scrubber for comparison)\ncontainer_id = f\"d3-container-{uuid.uuid4().hex[:8]}\"   \nuser_code = f\"\"\"\n    const data={json.dumps(data)};\n    const container = d3.select(\"#{container_id}\").datum(data);\n    const chart = ganttChart().scrubberEnabled(false);  // Disable scrubber for this demo\n    container.call(chart);\n    window.addEventListener('resize', (() => container.call(chart)));\n\"\"\"\n\nhtml = Html.body(\n    Html.h3(\"Basic Gantt Chart (no scrubber)\"),\n    Html.div(id_=container_id),\n    Html.script(require(modules=[\"d3\", \"ganttChart\"], user_code=user_code))\n)\ndisplay(html)"
  },
  {
   "cell_type": "code",
   "execution_count": null,
   "id": "67a90eb4",
   "metadata": {},
   "outputs": [],
   "source": "# Enhanced Gantt Chart with Interactive Scrubber and Linked Data Display\nchart_container_id = f\"chart-container-{uuid.uuid4().hex[:8]}\"\ndisplay_container_id = f\"display-container-{uuid.uuid4().hex[:8]}\"\n\nuser_code = f\"\"\"\n    const data={json.dumps(data)};\n    \n    // Create the Gantt chart with scrubber enabled\n    const chartContainer = d3.select(\"#{chart_container_id}\").datum(data);\n    const chart = ganttChart().scrubberEnabled(true);\n    chartContainer.call(chart);\n    \n    // Create the linked data display component\n    const displayContainer = d3.select(\"#{display_container_id}\");\n    const displayComponent = dataDisplay().title(\"Timeline Entries at Scrubber Position\");\n    displayContainer.call(displayComponent);\n    \n    // Link the components using the event system\n    chart.on(\"scrubberMove\", function(event) {{\n        // Update the data display with intersected entries\n        const displayNode = displayContainer.node();\n        if (displayNode && displayNode.updateData) {{\n            displayNode.updateData(event.intersectedData);\n        }}\n    }});\n    \n    // Handle window resize for chart\n    window.addEventListener('resize', (() => chartContainer.call(chart)));\n\"\"\"\n\nhtml = Html.body(\n    Html.h3(\"Interactive Gantt Chart with Scrubber\"),\n    Html.p(\"Drag the orange scrubber line to see which timeline entries intersect. The data display below updates automatically.\"),\n    Html.div(id_=chart_container_id, style=\"height: 350px; margin-bottom: 20px;\"),\n    Html.div(id_=display_container_id, style=\"height: 300px;\"),\n    Html.script(require(modules=[\"d3\", \"ganttChart\", \"dataDisplay\"], user_code=user_code))\n)\ndisplay(html)"
  },
  {
   "cell_type": "markdown",
   "id": "dh64akmr6pn",
   "metadata": {},
   "source": [
    "## Scrubber Feature Documentation\n",
    "\n",
    "The enhanced Gantt chart now includes a horizontal scrubber feature with the following capabilities:\n",
    "\n",
    "### Key Features:\n",
    "- **Interactive Scrubber**: Orange draggable line that can be positioned anywhere on the timeline\n",
    "- **Visual Feedback**: Timeline entries that intersect with the scrubber remain at full opacity, while others are dimmed to 30% opacity\n",
    "- **Event System**: Uses D3's dispatch pattern for loose coupling between components\n",
    "- **Modular Design**: Linked components communicate through events, not direct coupling\n",
    "\n",
    "### API Overview:\n",
    "\n",
    "#### Gantt Chart Configuration:\n",
    "```javascript\n",
    "const chart = ganttChart()\n",
    "    .scrubberEnabled(true)  // Enable/disable scrubber (default: true)\n",
    "    .width(800)            // Chart width\n",
    "    .height(400);          // Chart height\n",
    "```\n",
    "\n",
    "#### Event Handling:\n",
    "```javascript\n",
    "chart.on(\"scrubberMove\", function(event) {\n",
    "    // event.position: Current scrubber position in data coordinates\n",
    "    // event.intersectedData: Array of timeline entries intersecting the scrubber\n",
    "});\n",
    "\n",
    "chart.on(\"scrubberStart\", function(event) {\n",
    "    // Fired when scrubber drag starts\n",
    "});\n",
    "\n",
    "chart.on(\"scrubberEnd\", function(event) {\n",
    "    // Fired when scrubber drag ends\n",
    "});\n",
    "```\n",
    "\n",
    "#### Data Display Component:\n",
    "```javascript\n",
    "const displayComponent = dataDisplay()\n",
    "    .title(\"Custom Title\")     // Set component title\n",
    "    .width(600)               // Component width\n",
    "    .height(300);             // Component height\n",
    "\n",
    "// Note: Avoid naming conflicts - don't use 'const dataDisplay = dataDisplay()'\n",
    "```\n",
    "\n",
    "### Design Patterns Used:\n",
    "1. **Observer Pattern**: Components observe scrubber events\n",
    "2. **Modular Architecture**: Each component is self-contained and reusable  \n",
    "3. **Event-Driven Communication**: Loose coupling via D3 dispatch system\n",
    "4. **Progressive Enhancement**: Scrubber can be enabled/disabled without breaking existing functionality\n",
    "\n",
    "### Common Pitfalls:\n",
    "- **Variable Naming**: Avoid `const dataDisplay = dataDisplay()` - this creates a naming conflict\n",
    "- **Component Order**: Ensure all components are loaded before referencing them\n",
    "- **Event Timing**: Components must be rendered before event handlers are attached"
   ]
  }
 ],
 "metadata": {
  "kernelspec": {
   "display_name": "Python 3 (ipykernel)",
   "language": "python",
   "name": "python3"
  },
  "language_info": {
   "codemirror_mode": {
    "name": "ipython",
    "version": 3
   },
   "file_extension": ".py",
   "mimetype": "text/x-python",
   "name": "python",
   "nbconvert_exporter": "python",
   "pygments_lexer": "ipython3",
   "version": "3.13.5"
  }
 },
 "nbformat": 4,
 "nbformat_minor": 5
}